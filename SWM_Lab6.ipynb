{
  "nbformat": 4,
  "nbformat_minor": 0,
  "metadata": {
    "colab": {
      "name": "SWM_Lab6.ipynb",
      "provenance": [],
      "authorship_tag": "ABX9TyNeRBetIACPpkWwOvYAvUFr",
      "include_colab_link": true
    },
    "kernelspec": {
      "name": "python3",
      "display_name": "Python 3"
    },
    "language_info": {
      "name": "python"
    }
  },
  "cells": [
    {
      "cell_type": "markdown",
      "metadata": {
        "id": "view-in-github",
        "colab_type": "text"
      },
      "source": [
        "<a href=\"https://colab.research.google.com/github/VrindaM27/Social-Web-Mobile-Analytics-Labwork/blob/main/SWM_Lab6.ipynb\" target=\"_parent\"><img src=\"https://colab.research.google.com/assets/colab-badge.svg\" alt=\"Open In Colab\"/></a>"
      ]
    },
    {
      "cell_type": "code",
      "source": [
        "import pandas as pd"
      ],
      "metadata": {
        "id": "7mfp4gTnZIsD"
      },
      "execution_count": 22,
      "outputs": []
    },
    {
      "cell_type": "code",
      "execution_count": 4,
      "metadata": {
        "colab": {
          "base_uri": "https://localhost:8080/"
        },
        "id": "YmHeiSznUtM_",
        "outputId": "3ce640b5-2c63-4d72-80e9-0446b0cd10e6"
      },
      "outputs": [
        {
          "output_type": "stream",
          "name": "stdout",
          "text": [
            "Requirement already satisfied: google-api-python-client in /usr/local/lib/python3.7/dist-packages (2.44.0)\n",
            "Requirement already satisfied: google-auth-httplib2>=0.1.0 in /usr/local/lib/python3.7/dist-packages (from google-api-python-client) (0.1.0)\n",
            "Requirement already satisfied: uritemplate<5,>=3.0.1 in /usr/local/lib/python3.7/dist-packages (from google-api-python-client) (3.0.1)\n",
            "Requirement already satisfied: httplib2<1dev,>=0.15.0 in /usr/local/lib/python3.7/dist-packages (from google-api-python-client) (0.17.4)\n",
            "Requirement already satisfied: google-auth<3.0.0dev,>=1.16.0 in /usr/local/lib/python3.7/dist-packages (from google-api-python-client) (1.35.0)\n",
            "Requirement already satisfied: google-api-core!=2.0.*,!=2.1.*,!=2.2.*,!=2.3.0,<3.0.0dev,>=1.31.5 in /usr/local/lib/python3.7/dist-packages (from google-api-python-client) (1.31.5)\n",
            "Requirement already satisfied: packaging>=14.3 in /usr/local/lib/python3.7/dist-packages (from google-api-core!=2.0.*,!=2.1.*,!=2.2.*,!=2.3.0,<3.0.0dev,>=1.31.5->google-api-python-client) (21.3)\n",
            "Requirement already satisfied: setuptools>=40.3.0 in /usr/local/lib/python3.7/dist-packages (from google-api-core!=2.0.*,!=2.1.*,!=2.2.*,!=2.3.0,<3.0.0dev,>=1.31.5->google-api-python-client) (57.4.0)\n",
            "Requirement already satisfied: protobuf>=3.12.0 in /usr/local/lib/python3.7/dist-packages (from google-api-core!=2.0.*,!=2.1.*,!=2.2.*,!=2.3.0,<3.0.0dev,>=1.31.5->google-api-python-client) (3.17.3)\n",
            "Requirement already satisfied: googleapis-common-protos<2.0dev,>=1.6.0 in /usr/local/lib/python3.7/dist-packages (from google-api-core!=2.0.*,!=2.1.*,!=2.2.*,!=2.3.0,<3.0.0dev,>=1.31.5->google-api-python-client) (1.56.0)\n",
            "Requirement already satisfied: requests<3.0.0dev,>=2.18.0 in /usr/local/lib/python3.7/dist-packages (from google-api-core!=2.0.*,!=2.1.*,!=2.2.*,!=2.3.0,<3.0.0dev,>=1.31.5->google-api-python-client) (2.23.0)\n",
            "Requirement already satisfied: six>=1.13.0 in /usr/local/lib/python3.7/dist-packages (from google-api-core!=2.0.*,!=2.1.*,!=2.2.*,!=2.3.0,<3.0.0dev,>=1.31.5->google-api-python-client) (1.15.0)\n",
            "Requirement already satisfied: pytz in /usr/local/lib/python3.7/dist-packages (from google-api-core!=2.0.*,!=2.1.*,!=2.2.*,!=2.3.0,<3.0.0dev,>=1.31.5->google-api-python-client) (2018.9)\n",
            "Requirement already satisfied: rsa<5,>=3.1.4 in /usr/local/lib/python3.7/dist-packages (from google-auth<3.0.0dev,>=1.16.0->google-api-python-client) (4.8)\n",
            "Requirement already satisfied: cachetools<5.0,>=2.0.0 in /usr/local/lib/python3.7/dist-packages (from google-auth<3.0.0dev,>=1.16.0->google-api-python-client) (4.2.4)\n",
            "Requirement already satisfied: pyasn1-modules>=0.2.1 in /usr/local/lib/python3.7/dist-packages (from google-auth<3.0.0dev,>=1.16.0->google-api-python-client) (0.2.8)\n",
            "Requirement already satisfied: pyparsing!=3.0.5,>=2.0.2 in /usr/local/lib/python3.7/dist-packages (from packaging>=14.3->google-api-core!=2.0.*,!=2.1.*,!=2.2.*,!=2.3.0,<3.0.0dev,>=1.31.5->google-api-python-client) (3.0.8)\n",
            "Requirement already satisfied: pyasn1<0.5.0,>=0.4.6 in /usr/local/lib/python3.7/dist-packages (from pyasn1-modules>=0.2.1->google-auth<3.0.0dev,>=1.16.0->google-api-python-client) (0.4.8)\n",
            "Requirement already satisfied: chardet<4,>=3.0.2 in /usr/local/lib/python3.7/dist-packages (from requests<3.0.0dev,>=2.18.0->google-api-core!=2.0.*,!=2.1.*,!=2.2.*,!=2.3.0,<3.0.0dev,>=1.31.5->google-api-python-client) (3.0.4)\n",
            "Requirement already satisfied: idna<3,>=2.5 in /usr/local/lib/python3.7/dist-packages (from requests<3.0.0dev,>=2.18.0->google-api-core!=2.0.*,!=2.1.*,!=2.2.*,!=2.3.0,<3.0.0dev,>=1.31.5->google-api-python-client) (2.10)\n",
            "Requirement already satisfied: certifi>=2017.4.17 in /usr/local/lib/python3.7/dist-packages (from requests<3.0.0dev,>=2.18.0->google-api-core!=2.0.*,!=2.1.*,!=2.2.*,!=2.3.0,<3.0.0dev,>=1.31.5->google-api-python-client) (2021.10.8)\n",
            "Requirement already satisfied: urllib3!=1.25.0,!=1.25.1,<1.26,>=1.21.1 in /usr/local/lib/python3.7/dist-packages (from requests<3.0.0dev,>=2.18.0->google-api-core!=2.0.*,!=2.1.*,!=2.2.*,!=2.3.0,<3.0.0dev,>=1.31.5->google-api-python-client) (1.24.3)\n"
          ]
        }
      ],
      "source": [
        "pip install --upgrade google-api-python-client"
      ]
    },
    {
      "cell_type": "code",
      "source": [
        "from oauth2client.service_account import ServiceAccountCredentials\n",
        "from googleapiclient.discovery import build\n",
        "import httplib2"
      ],
      "metadata": {
        "id": "in6kNiWbVkhd"
      },
      "execution_count": 2,
      "outputs": []
    },
    {
      "cell_type": "code",
      "source": [
        "credentials = ServiceAccountCredentials.from_json_keyfile_name('client_secrets.json', ['https://www.googleapis.com/auth/analytics.readonly'])"
      ],
      "metadata": {
        "id": "Su2BAio4VxqL"
      },
      "execution_count": 3,
      "outputs": []
    },
    {
      "cell_type": "code",
      "source": [
        "#Create a service object\n",
        "http = credentials.authorize(httplib2.Http())\n",
        "service = build('analytics', 'v4', http=http, discoveryServiceUrl=('https://analyticsreporting.googleapis.com/$discovery/rest'))"
      ],
      "metadata": {
        "id": "kCk7GzZkWMZ5"
      },
      "execution_count": 5,
      "outputs": []
    },
    {
      "cell_type": "code",
      "source": [
        "body={'reportRequests': [\n",
        "            {\n",
        "                'viewId': '225899521', \n",
        "                'dateRanges': [{'startDate': '30daysAgo', 'endDate': 'today'}],\n",
        "                'metrics': [{'expression': 'ga:sessions'}], \n",
        "                'dimensions': [{\"name\": \"ga:pagePath\"}], #Get Pages\n",
        "                \"filtersExpression\":\"ga:pagePath=~products;ga:pagePath!@/translate\", #Filter by condition \"containing products\"\n",
        "                'orderBys': [{\"fieldName\": \"ga:sessions\", \"sortOrder\": \"DESCENDING\"}], \n",
        "                'pageSize': 100\n",
        "            }]\n",
        "    }"
      ],
      "metadata": {
        "id": "Mb-3XGHuWkM4"
      },
      "execution_count": 12,
      "outputs": []
    },
    {
      "cell_type": "code",
      "source": [
        "dim = []\n",
        "val = []\n",
        "  \n",
        "#Extract Data\n",
        "for report in body.get('reports', []):\n",
        "  \n",
        "    columnHeader = report.get('columnHeader', {})\n",
        "    dimensionHeaders = columnHeader.get('dimensions', [])\n",
        "    metricHeaders = columnHeader.get('metricHeader', {}).get('metricHeaderEntries', [])\n",
        "    rows = report.get('data', {}).get('rows', [])\n",
        "  \n",
        "    for row in rows:\n",
        "  \n",
        "        dimensions = row.get('dimensions', [])\n",
        "        dateRangeValues = row.get('metrics', [])\n",
        "  \n",
        "        for header, dimension in zip(dimensionHeaders, dimensions):\n",
        "            dim.append(dimension)\n",
        "  \n",
        "        for i, values in enumerate(dateRangeValues):\n",
        "            for metricHeader, value in zip(metricHeaders, values.get('values')):\n",
        "                val.append(int(value))"
      ],
      "metadata": {
        "id": "gM5ljoRMYvqM"
      },
      "execution_count": 20,
      "outputs": []
    },
    {
      "cell_type": "code",
      "source": [
        "df = pd.DataFrame() \n",
        "df[\"Sessions\"]=val\n",
        "df[\"pagePath\"]=dim\n",
        "df=df[[\"pagePath\",\"Sessions\"]]"
      ],
      "metadata": {
        "id": "XYlOKiwmZD2X"
      },
      "execution_count": 23,
      "outputs": []
    },
    {
      "cell_type": "code",
      "source": [
        "df.to_csv(\"page_by_session.csv\")"
      ],
      "metadata": {
        "id": "MFADX0cHZGmO"
      },
      "execution_count": 27,
      "outputs": []
    }
  ]
}