{
  "nbformat": 4,
  "nbformat_minor": 0,
  "metadata": {
    "colab": {
      "name": "SWM_Lab5.ipynb",
      "provenance": [],
      "include_colab_link": true
    },
    "kernelspec": {
      "name": "python3",
      "display_name": "Python 3"
    },
    "language_info": {
      "name": "python"
    }
  },
  "cells": [
    {
      "cell_type": "markdown",
      "metadata": {
        "id": "view-in-github",
        "colab_type": "text"
      },
      "source": [
        "<a href=\"https://colab.research.google.com/github/VrindaM27/Social-Web-Mobile-Analytics-Labwork/blob/main/SWM_Lab5.ipynb\" target=\"_parent\"><img src=\"https://colab.research.google.com/assets/colab-badge.svg\" alt=\"Open In Colab\"/></a>"
      ]
    },
    {
      "cell_type": "code",
      "source": [
        "import tweepy\n",
        "import pandas as pd\n",
        "from textblob import TextBlob\n",
        "import re\n",
        "from wordcloud import WordCloud\n",
        "import matplotlib.pyplot as plt"
      ],
      "metadata": {
        "id": "5ZmGUhSW8cet"
      },
      "execution_count": 21,
      "outputs": []
    },
    {
      "cell_type": "code",
      "source": [
        "from google.colab import files\n",
        "uploaded=files.upload()"
      ],
      "metadata": {
        "colab": {
          "resources": {
            "http://localhost:8080/nbextensions/google.colab/files.js": {
              "data": "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",
              "ok": true,
              "headers": [
                [
                  "content-type",
                  "application/javascript"
                ]
              ],
              "status": 200,
              "status_text": ""
            }
          },
          "base_uri": "https://localhost:8080/",
          "height": 73
        },
        "id": "oTT685mJGHnV",
        "outputId": "23629e72-80cc-49fe-cc37-266b33adfffd"
      },
      "execution_count": 2,
      "outputs": [
        {
          "output_type": "display_data",
          "data": {
            "text/plain": [
              "<IPython.core.display.HTML object>"
            ],
            "text/html": [
              "\n",
              "     <input type=\"file\" id=\"files-39191b82-ee1a-438e-9630-00d587db98bf\" name=\"files[]\" multiple disabled\n",
              "        style=\"border:none\" />\n",
              "     <output id=\"result-39191b82-ee1a-438e-9630-00d587db98bf\">\n",
              "      Upload widget is only available when the cell has been executed in the\n",
              "      current browser session. Please rerun this cell to enable.\n",
              "      </output>\n",
              "      <script src=\"/nbextensions/google.colab/files.js\"></script> "
            ]
          },
          "metadata": {}
        },
        {
          "output_type": "stream",
          "name": "stdout",
          "text": [
            "Saving Twitter.csv to Twitter.csv\n"
          ]
        }
      ]
    },
    {
      "cell_type": "code",
      "source": [
        "data=pd.read_csv('Twitter.csv')"
      ],
      "metadata": {
        "id": "6t63HsgMGPvT"
      },
      "execution_count": 8,
      "outputs": []
    },
    {
      "cell_type": "code",
      "source": [
        "apikey=data['API Key'][0]\n",
        "apisecret=data['API Secret'][0]\n",
        "accesstoken=data['Access Token'][0]"
      ],
      "metadata": {
        "id": "z9fYcYyoO9U3"
      },
      "execution_count": 9,
      "outputs": []
    },
    {
      "cell_type": "code",
      "source": [
        "authentic=tweepy.OAuthHandler(apikey,apisecret)\n",
        "api=tweepy.API(authentic,wait_on_rate_limit=True)"
      ],
      "metadata": {
        "id": "qv8g8_eyPC1r"
      },
      "execution_count": 10,
      "outputs": []
    },
    {
      "cell_type": "code",
      "source": [
        "posts=api.user_timeline(screen_name=\"JoeBiden\", count=100,lang=\"en\",tweet_mode=\"extended\")\n",
        "i=1\n",
        "for tweet in posts[0:5]:\n",
        "  print(str(i)+'.'+' '+tweet.full_text + '\\n')\n",
        "  i=i+1"
      ],
      "metadata": {
        "colab": {
          "base_uri": "https://localhost:8080/"
        },
        "id": "-SDQZmTIPfzw",
        "outputId": "d9a67d0e-b7bc-49e2-9adc-615937955c47"
      },
      "execution_count": 12,
      "outputs": [
        {
          "output_type": "stream",
          "name": "stdout",
          "text": [
            "1. To help deal with Putin’s Price Hike, I’ve authorized the use of 1 million barrels per day on average for the next six months from our Strategic Petroleum Reserve—the largest release of our national reserve in history.\n",
            "\n",
            "2. RT @POTUS: Jill and I are praying for those injured in the New York City subway shooting. We are grateful for the first responders and civi…\n",
            "\n",
            "3. America is back to work. \n",
            "\n",
            "Our economy added 7.9 million jobs since I took office—more jobs created on average per month than under any other president in history. That’s millions of families with a little more breathing room and the dignity a job provides.\n",
            "\n",
            "4. Today is a good day—a day that history is going to remember. https://t.co/gskJzbu2DK\n",
            "\n",
            "5. RT @POTUS: Judge Jackson brings a rare combination of experience and qualifications to the Court.\n",
            " \n",
            "A federal judge who served on the secon…\n",
            "\n"
          ]
        }
      ]
    },
    {
      "cell_type": "code",
      "source": [
        "df=pd.DataFrame([tweet.full_text for tweet in posts], columns=['Tweets'])\n",
        "def clean_text(text):\n",
        "  text=re.sub(r'@[A-Za-z0-9]+',' ',text) #for removing '@' mentions\n",
        "  text=re.sub(r'#','',text) #for removing the '#' symbol\n",
        "  text=re.sub(r'http\\S+',' ',text) #for removing URL's\n",
        "  text=re.sub(r'\\n','',text)\n",
        "\n",
        "  #removing emojis from text\n",
        "  re_emo=re.compile('[\\U00010000-\\U0010ffff]', flags=re.UNICODE)\n",
        "  text= re_emo.sub(r' ' , text)\n",
        "  return text"
      ],
      "metadata": {
        "id": "KLtWzZwTPk_Q"
      },
      "execution_count": 13,
      "outputs": []
    },
    {
      "cell_type": "code",
      "source": [
        "df['Tweets']=df['Tweets'].apply(clean_text)\n",
        "df"
      ],
      "metadata": {
        "colab": {
          "base_uri": "https://localhost:8080/",
          "height": 424
        },
        "id": "M3dWqdNAPwI3",
        "outputId": "de17dac9-33cf-4086-e0c3-4486b23c48fe"
      },
      "execution_count": 14,
      "outputs": [
        {
          "output_type": "execute_result",
          "data": {
            "text/plain": [
              "                                               Tweets\n",
              "0   To help deal with Putin’s Price Hike, I’ve aut...\n",
              "1   RT  : Jill and I are praying for those injured...\n",
              "2   America is back to work. Our economy added 7.9...\n",
              "3   Today is a good day—a day that history is goin...\n",
              "4   RT  : Judge Jackson brings a rare combination ...\n",
              "..                                                ...\n",
              "95  We're banning all imports of Russian oil and g...\n",
              "96  On International Women’s Day and every day, le...\n",
              "97  The American Rescue Plan has resulted in histo...\n",
              "98  It costs pharmaceutical companies $10 to make ...\n",
              "99  Last year has been the best year for manufactu...\n",
              "\n",
              "[100 rows x 1 columns]"
            ],
            "text/html": [
              "\n",
              "  <div id=\"df-b7b8a2a4-663c-47b0-b800-889793fe8284\">\n",
              "    <div class=\"colab-df-container\">\n",
              "      <div>\n",
              "<style scoped>\n",
              "    .dataframe tbody tr th:only-of-type {\n",
              "        vertical-align: middle;\n",
              "    }\n",
              "\n",
              "    .dataframe tbody tr th {\n",
              "        vertical-align: top;\n",
              "    }\n",
              "\n",
              "    .dataframe thead th {\n",
              "        text-align: right;\n",
              "    }\n",
              "</style>\n",
              "<table border=\"1\" class=\"dataframe\">\n",
              "  <thead>\n",
              "    <tr style=\"text-align: right;\">\n",
              "      <th></th>\n",
              "      <th>Tweets</th>\n",
              "    </tr>\n",
              "  </thead>\n",
              "  <tbody>\n",
              "    <tr>\n",
              "      <th>0</th>\n",
              "      <td>To help deal with Putin’s Price Hike, I’ve aut...</td>\n",
              "    </tr>\n",
              "    <tr>\n",
              "      <th>1</th>\n",
              "      <td>RT  : Jill and I are praying for those injured...</td>\n",
              "    </tr>\n",
              "    <tr>\n",
              "      <th>2</th>\n",
              "      <td>America is back to work. Our economy added 7.9...</td>\n",
              "    </tr>\n",
              "    <tr>\n",
              "      <th>3</th>\n",
              "      <td>Today is a good day—a day that history is goin...</td>\n",
              "    </tr>\n",
              "    <tr>\n",
              "      <th>4</th>\n",
              "      <td>RT  : Judge Jackson brings a rare combination ...</td>\n",
              "    </tr>\n",
              "    <tr>\n",
              "      <th>...</th>\n",
              "      <td>...</td>\n",
              "    </tr>\n",
              "    <tr>\n",
              "      <th>95</th>\n",
              "      <td>We're banning all imports of Russian oil and g...</td>\n",
              "    </tr>\n",
              "    <tr>\n",
              "      <th>96</th>\n",
              "      <td>On International Women’s Day and every day, le...</td>\n",
              "    </tr>\n",
              "    <tr>\n",
              "      <th>97</th>\n",
              "      <td>The American Rescue Plan has resulted in histo...</td>\n",
              "    </tr>\n",
              "    <tr>\n",
              "      <th>98</th>\n",
              "      <td>It costs pharmaceutical companies $10 to make ...</td>\n",
              "    </tr>\n",
              "    <tr>\n",
              "      <th>99</th>\n",
              "      <td>Last year has been the best year for manufactu...</td>\n",
              "    </tr>\n",
              "  </tbody>\n",
              "</table>\n",
              "<p>100 rows × 1 columns</p>\n",
              "</div>\n",
              "      <button class=\"colab-df-convert\" onclick=\"convertToInteractive('df-b7b8a2a4-663c-47b0-b800-889793fe8284')\"\n",
              "              title=\"Convert this dataframe to an interactive table.\"\n",
              "              style=\"display:none;\">\n",
              "        \n",
              "  <svg xmlns=\"http://www.w3.org/2000/svg\" height=\"24px\"viewBox=\"0 0 24 24\"\n",
              "       width=\"24px\">\n",
              "    <path d=\"M0 0h24v24H0V0z\" fill=\"none\"/>\n",
              "    <path d=\"M18.56 5.44l.94 2.06.94-2.06 2.06-.94-2.06-.94-.94-2.06-.94 2.06-2.06.94zm-11 1L8.5 8.5l.94-2.06 2.06-.94-2.06-.94L8.5 2.5l-.94 2.06-2.06.94zm10 10l.94 2.06.94-2.06 2.06-.94-2.06-.94-.94-2.06-.94 2.06-2.06.94z\"/><path d=\"M17.41 7.96l-1.37-1.37c-.4-.4-.92-.59-1.43-.59-.52 0-1.04.2-1.43.59L10.3 9.45l-7.72 7.72c-.78.78-.78 2.05 0 2.83L4 21.41c.39.39.9.59 1.41.59.51 0 1.02-.2 1.41-.59l7.78-7.78 2.81-2.81c.8-.78.8-2.07 0-2.86zM5.41 20L4 18.59l7.72-7.72 1.47 1.35L5.41 20z\"/>\n",
              "  </svg>\n",
              "      </button>\n",
              "      \n",
              "  <style>\n",
              "    .colab-df-container {\n",
              "      display:flex;\n",
              "      flex-wrap:wrap;\n",
              "      gap: 12px;\n",
              "    }\n",
              "\n",
              "    .colab-df-convert {\n",
              "      background-color: #E8F0FE;\n",
              "      border: none;\n",
              "      border-radius: 50%;\n",
              "      cursor: pointer;\n",
              "      display: none;\n",
              "      fill: #1967D2;\n",
              "      height: 32px;\n",
              "      padding: 0 0 0 0;\n",
              "      width: 32px;\n",
              "    }\n",
              "\n",
              "    .colab-df-convert:hover {\n",
              "      background-color: #E2EBFA;\n",
              "      box-shadow: 0px 1px 2px rgba(60, 64, 67, 0.3), 0px 1px 3px 1px rgba(60, 64, 67, 0.15);\n",
              "      fill: #174EA6;\n",
              "    }\n",
              "\n",
              "    [theme=dark] .colab-df-convert {\n",
              "      background-color: #3B4455;\n",
              "      fill: #D2E3FC;\n",
              "    }\n",
              "\n",
              "    [theme=dark] .colab-df-convert:hover {\n",
              "      background-color: #434B5C;\n",
              "      box-shadow: 0px 1px 3px 1px rgba(0, 0, 0, 0.15);\n",
              "      filter: drop-shadow(0px 1px 2px rgba(0, 0, 0, 0.3));\n",
              "      fill: #FFFFFF;\n",
              "    }\n",
              "  </style>\n",
              "\n",
              "      <script>\n",
              "        const buttonEl =\n",
              "          document.querySelector('#df-b7b8a2a4-663c-47b0-b800-889793fe8284 button.colab-df-convert');\n",
              "        buttonEl.style.display =\n",
              "          google.colab.kernel.accessAllowed ? 'block' : 'none';\n",
              "\n",
              "        async function convertToInteractive(key) {\n",
              "          const element = document.querySelector('#df-b7b8a2a4-663c-47b0-b800-889793fe8284');\n",
              "          const dataTable =\n",
              "            await google.colab.kernel.invokeFunction('convertToInteractive',\n",
              "                                                     [key], {});\n",
              "          if (!dataTable) return;\n",
              "\n",
              "          const docLinkHtml = 'Like what you see? Visit the ' +\n",
              "            '<a target=\"_blank\" href=https://colab.research.google.com/notebooks/data_table.ipynb>data table notebook</a>'\n",
              "            + ' to learn more about interactive tables.';\n",
              "          element.innerHTML = '';\n",
              "          dataTable['output_type'] = 'display_data';\n",
              "          await google.colab.output.renderOutput(dataTable, element);\n",
              "          const docLink = document.createElement('div');\n",
              "          docLink.innerHTML = docLinkHtml;\n",
              "          element.appendChild(docLink);\n",
              "        }\n",
              "      </script>\n",
              "    </div>\n",
              "  </div>\n",
              "  "
            ]
          },
          "metadata": {},
          "execution_count": 14
        }
      ]
    },
    {
      "cell_type": "code",
      "source": [
        "allw=' '.join([t for t in df['Tweets']])\n",
        "\n",
        "#for wordcloud\n",
        "wc=WordCloud(width=1000,height=900,random_state=20,max_font_size=100).generate(allw)\n",
        "plt.imshow(wc)\n",
        "plt.axis('off')"
      ],
      "metadata": {
        "colab": {
          "base_uri": "https://localhost:8080/",
          "height": 265
        },
        "id": "Q6pKWQO7PzTu",
        "outputId": "4763702f-f889-4274-f79a-263c32a5e2fb"
      },
      "execution_count": 15,
      "outputs": [
        {
          "output_type": "execute_result",
          "data": {
            "text/plain": [
              "(-0.5, 999.5, 899.5, -0.5)"
            ]
          },
          "metadata": {},
          "execution_count": 15
        },
        {
          "output_type": "display_data",
          "data": {
            "text/plain": [
              "<Figure size 432x288 with 1 Axes>"
            ],
            "image/png": "[encoded data removed]"
          },
          "metadata": {
            "needs_background": "light"
          }
        }
      ]
    },
    {
      "cell_type": "code",
      "source": [
        "def subj(text):\n",
        "  return TextBlob(text).sentiment.subjectivity\n",
        "def polar(text):\n",
        "  return TextBlob(text).sentiment.polarity\n",
        "df['Subjectivity']=df['Tweets'].apply(subj)\n",
        "df['Polarity']=df['Tweets'].apply(polar)\n",
        "df.head()"
      ],
      "metadata": {
        "colab": {
          "base_uri": "https://localhost:8080/",
          "height": 206
        },
        "id": "CELpPcRoP6ys",
        "outputId": "3addee90-3954-44d7-d337-c4024405b448"
      },
      "execution_count": 22,
      "outputs": [
        {
          "output_type": "execute_result",
          "data": {
            "text/plain": [
              "                                              Tweets  Subjectivity  Polarity\n",
              "0  To help deal with Putin’s Price Hike, I’ve aut...      0.200000 -0.075000\n",
              "1  RT  : Jill and I are praying for those injured...      0.393939  0.193182\n",
              "2  America is back to work. Our economy added 7.9...      0.355000  0.007500\n",
              "3  Today is a good day—a day that history is goin...      0.600000  0.700000\n",
              "4  RT  : Judge Jackson brings a rare combination ...      0.900000  0.300000"
            ],
            "text/html": [
              "\n",
              "  <div id=\"df-da07df3d-c612-4578-bc9a-8612c0aebdf4\">\n",
              "    <div class=\"colab-df-container\">\n",
              "      <div>\n",
              "<style scoped>\n",
              "    .dataframe tbody tr th:only-of-type {\n",
              "        vertical-align: middle;\n",
              "    }\n",
              "\n",
              "    .dataframe tbody tr th {\n",
              "        vertical-align: top;\n",
              "    }\n",
              "\n",
              "    .dataframe thead th {\n",
              "        text-align: right;\n",
              "    }\n",
              "</style>\n",
              "<table border=\"1\" class=\"dataframe\">\n",
              "  <thead>\n",
              "    <tr style=\"text-align: right;\">\n",
              "      <th></th>\n",
              "      <th>Tweets</th>\n",
              "      <th>Subjectivity</th>\n",
              "      <th>Polarity</th>\n",
              "    </tr>\n",
              "  </thead>\n",
              "  <tbody>\n",
              "    <tr>\n",
              "      <th>0</th>\n",
              "      <td>To help deal with Putin’s Price Hike, I’ve aut...</td>\n",
              "      <td>0.200000</td>\n",
              "      <td>-0.075000</td>\n",
              "    </tr>\n",
              "    <tr>\n",
              "      <th>1</th>\n",
              "      <td>RT  : Jill and I are praying for those injured...</td>\n",
              "      <td>0.393939</td>\n",
              "      <td>0.193182</td>\n",
              "    </tr>\n",
              "    <tr>\n",
              "      <th>2</th>\n",
              "      <td>America is back to work. Our economy added 7.9...</td>\n",
              "      <td>0.355000</td>\n",
              "      <td>0.007500</td>\n",
              "    </tr>\n",
              "    <tr>\n",
              "      <th>3</th>\n",
              "      <td>Today is a good day—a day that history is goin...</td>\n",
              "      <td>0.600000</td>\n",
              "      <td>0.700000</td>\n",
              "    </tr>\n",
              "    <tr>\n",
              "      <th>4</th>\n",
              "      <td>RT  : Judge Jackson brings a rare combination ...</td>\n",
              "      <td>0.900000</td>\n",
              "      <td>0.300000</td>\n",
              "    </tr>\n",
              "  </tbody>\n",
              "</table>\n",
              "</div>\n",
              "      <button class=\"colab-df-convert\" onclick=\"convertToInteractive('df-da07df3d-c612-4578-bc9a-8612c0aebdf4')\"\n",
              "              title=\"Convert this dataframe to an interactive table.\"\n",
              "              style=\"display:none;\">\n",
              "        \n",
              "  <svg xmlns=\"http://www.w3.org/2000/svg\" height=\"24px\"viewBox=\"0 0 24 24\"\n",
              "       width=\"24px\">\n",
              "    <path d=\"M0 0h24v24H0V0z\" fill=\"none\"/>\n",
              "    <path d=\"M18.56 5.44l.94 2.06.94-2.06 2.06-.94-2.06-.94-.94-2.06-.94 2.06-2.06.94zm-11 1L8.5 8.5l.94-2.06 2.06-.94-2.06-.94L8.5 2.5l-.94 2.06-2.06.94zm10 10l.94 2.06.94-2.06 2.06-.94-2.06-.94-.94-2.06-.94 2.06-2.06.94z\"/><path d=\"M17.41 7.96l-1.37-1.37c-.4-.4-.92-.59-1.43-.59-.52 0-1.04.2-1.43.59L10.3 9.45l-7.72 7.72c-.78.78-.78 2.05 0 2.83L4 21.41c.39.39.9.59 1.41.59.51 0 1.02-.2 1.41-.59l7.78-7.78 2.81-2.81c.8-.78.8-2.07 0-2.86zM5.41 20L4 18.59l7.72-7.72 1.47 1.35L5.41 20z\"/>\n",
              "  </svg>\n",
              "      </button>\n",
              "      \n",
              "  <style>\n",
              "    .colab-df-container {\n",
              "      display:flex;\n",
              "      flex-wrap:wrap;\n",
              "      gap: 12px;\n",
              "    }\n",
              "\n",
              "    .colab-df-convert {\n",
              "      background-color: #E8F0FE;\n",
              "      border: none;\n",
              "      border-radius: 50%;\n",
              "      cursor: pointer;\n",
              "      display: none;\n",
              "      fill: #1967D2;\n",
              "      height: 32px;\n",
              "      padding: 0 0 0 0;\n",
              "      width: 32px;\n",
              "    }\n",
              "\n",
              "    .colab-df-convert:hover {\n",
              "      background-color: #E2EBFA;\n",
              "      box-shadow: 0px 1px 2px rgba(60, 64, 67, 0.3), 0px 1px 3px 1px rgba(60, 64, 67, 0.15);\n",
              "      fill: #174EA6;\n",
              "    }\n",
              "\n",
              "    [theme=dark] .colab-df-convert {\n",
              "      background-color: #3B4455;\n",
              "      fill: #D2E3FC;\n",
              "    }\n",
              "\n",
              "    [theme=dark] .colab-df-convert:hover {\n",
              "      background-color: #434B5C;\n",
              "      box-shadow: 0px 1px 3px 1px rgba(0, 0, 0, 0.15);\n",
              "      filter: drop-shadow(0px 1px 2px rgba(0, 0, 0, 0.3));\n",
              "      fill: #FFFFFF;\n",
              "    }\n",
              "  </style>\n",
              "\n",
              "      <script>\n",
              "        const buttonEl =\n",
              "          document.querySelector('#df-da07df3d-c612-4578-bc9a-8612c0aebdf4 button.colab-df-convert');\n",
              "        buttonEl.style.display =\n",
              "          google.colab.kernel.accessAllowed ? 'block' : 'none';\n",
              "\n",
              "        async function convertToInteractive(key) {\n",
              "          const element = document.querySelector('#df-da07df3d-c612-4578-bc9a-8612c0aebdf4');\n",
              "          const dataTable =\n",
              "            await google.colab.kernel.invokeFunction('convertToInteractive',\n",
              "                                                     [key], {});\n",
              "          if (!dataTable) return;\n",
              "\n",
              "          const docLinkHtml = 'Like what you see? Visit the ' +\n",
              "            '<a target=\"_blank\" href=https://colab.research.google.com/notebooks/data_table.ipynb>data table notebook</a>'\n",
              "            + ' to learn more about interactive tables.';\n",
              "          element.innerHTML = '';\n",
              "          dataTable['output_type'] = 'display_data';\n",
              "          await google.colab.output.renderOutput(dataTable, element);\n",
              "          const docLink = document.createElement('div');\n",
              "          docLink.innerHTML = docLinkHtml;\n",
              "          element.appendChild(docLink);\n",
              "        }\n",
              "      </script>\n",
              "    </div>\n",
              "  </div>\n",
              "  "
            ]
          },
          "metadata": {},
          "execution_count": 22
        }
      ]
    },
    {
      "cell_type": "code",
      "source": [
        "def wordscore(score):\n",
        "  if score<0:\n",
        "   return 'Negative'\n",
        "  elif score==0:\n",
        "   return 'Neutral'\n",
        "  else:\n",
        "    return 'Positive'\n",
        "df['Results']=df['Polarity'].apply(wordscore)\n",
        "df"
      ],
      "metadata": {
        "colab": {
          "base_uri": "https://localhost:8080/",
          "height": 424
        },
        "id": "t2zOmHPcQlO9",
        "outputId": "1496e5c9-9710-4d56-9e01-ecc8e69dd205"
      },
      "execution_count": 23,
      "outputs": [
        {
          "output_type": "execute_result",
          "data": {
            "text/plain": [
              "                                               Tweets  Subjectivity  Polarity  \\\n",
              "0   To help deal with Putin’s Price Hike, I’ve aut...      0.200000 -0.075000   \n",
              "1   RT  : Jill and I are praying for those injured...      0.393939  0.193182   \n",
              "2   America is back to work. Our economy added 7.9...      0.355000  0.007500   \n",
              "3   Today is a good day—a day that history is goin...      0.600000  0.700000   \n",
              "4   RT  : Judge Jackson brings a rare combination ...      0.900000  0.300000   \n",
              "..                                                ...           ...       ...   \n",
              "95  We're banning all imports of Russian oil and g...      0.250000  0.075000   \n",
              "96  On International Women’s Day and every day, le...      0.293750  0.212500   \n",
              "97  The American Rescue Plan has resulted in histo...      0.066667  0.066667   \n",
              "98  It costs pharmaceutical companies $10 to make ...      0.000000  0.000000   \n",
              "99  Last year has been the best year for manufactu...      0.183333  0.500000   \n",
              "\n",
              "     Results  \n",
              "0   Negative  \n",
              "1   Positive  \n",
              "2   Positive  \n",
              "3   Positive  \n",
              "4   Positive  \n",
              "..       ...  \n",
              "95  Positive  \n",
              "96  Positive  \n",
              "97  Positive  \n",
              "98   Neutral  \n",
              "99  Positive  \n",
              "\n",
              "[100 rows x 4 columns]"
            ],
            "text/html": [
              "\n",
              "  <div id=\"df-d4742096-1996-4d3d-9292-383f0e01c058\">\n",
              "    <div class=\"colab-df-container\">\n",
              "      <div>\n",
              "<style scoped>\n",
              "    .dataframe tbody tr th:only-of-type {\n",
              "        vertical-align: middle;\n",
              "    }\n",
              "\n",
              "    .dataframe tbody tr th {\n",
              "        vertical-align: top;\n",
              "    }\n",
              "\n",
              "    .dataframe thead th {\n",
              "        text-align: right;\n",
              "    }\n",
              "</style>\n",
              "<table border=\"1\" class=\"dataframe\">\n",
              "  <thead>\n",
              "    <tr style=\"text-align: right;\">\n",
              "      <th></th>\n",
              "      <th>Tweets</th>\n",
              "      <th>Subjectivity</th>\n",
              "      <th>Polarity</th>\n",
              "      <th>Results</th>\n",
              "    </tr>\n",
              "  </thead>\n",
              "  <tbody>\n",
              "    <tr>\n",
              "      <th>0</th>\n",
              "      <td>To help deal with Putin’s Price Hike, I’ve aut...</td>\n",
              "      <td>0.200000</td>\n",
              "      <td>-0.075000</td>\n",
              "      <td>Negative</td>\n",
              "    </tr>\n",
              "    <tr>\n",
              "      <th>1</th>\n",
              "      <td>RT  : Jill and I are praying for those injured...</td>\n",
              "      <td>0.393939</td>\n",
              "      <td>0.193182</td>\n",
              "      <td>Positive</td>\n",
              "    </tr>\n",
              "    <tr>\n",
              "      <th>2</th>\n",
              "      <td>America is back to work. Our economy added 7.9...</td>\n",
              "      <td>0.355000</td>\n",
              "      <td>0.007500</td>\n",
              "      <td>Positive</td>\n",
              "    </tr>\n",
              "    <tr>\n",
              "      <th>3</th>\n",
              "      <td>Today is a good day—a day that history is goin...</td>\n",
              "      <td>0.600000</td>\n",
              "      <td>0.700000</td>\n",
              "      <td>Positive</td>\n",
              "    </tr>\n",
              "    <tr>\n",
              "      <th>4</th>\n",
              "      <td>RT  : Judge Jackson brings a rare combination ...</td>\n",
              "      <td>0.900000</td>\n",
              "      <td>0.300000</td>\n",
              "      <td>Positive</td>\n",
              "    </tr>\n",
              "    <tr>\n",
              "      <th>...</th>\n",
              "      <td>...</td>\n",
              "      <td>...</td>\n",
              "      <td>...</td>\n",
              "      <td>...</td>\n",
              "    </tr>\n",
              "    <tr>\n",
              "      <th>95</th>\n",
              "      <td>We're banning all imports of Russian oil and g...</td>\n",
              "      <td>0.250000</td>\n",
              "      <td>0.075000</td>\n",
              "      <td>Positive</td>\n",
              "    </tr>\n",
              "    <tr>\n",
              "      <th>96</th>\n",
              "      <td>On International Women’s Day and every day, le...</td>\n",
              "      <td>0.293750</td>\n",
              "      <td>0.212500</td>\n",
              "      <td>Positive</td>\n",
              "    </tr>\n",
              "    <tr>\n",
              "      <th>97</th>\n",
              "      <td>The American Rescue Plan has resulted in histo...</td>\n",
              "      <td>0.066667</td>\n",
              "      <td>0.066667</td>\n",
              "      <td>Positive</td>\n",
              "    </tr>\n",
              "    <tr>\n",
              "      <th>98</th>\n",
              "      <td>It costs pharmaceutical companies $10 to make ...</td>\n",
              "      <td>0.000000</td>\n",
              "      <td>0.000000</td>\n",
              "      <td>Neutral</td>\n",
              "    </tr>\n",
              "    <tr>\n",
              "      <th>99</th>\n",
              "      <td>Last year has been the best year for manufactu...</td>\n",
              "      <td>0.183333</td>\n",
              "      <td>0.500000</td>\n",
              "      <td>Positive</td>\n",
              "    </tr>\n",
              "  </tbody>\n",
              "</table>\n",
              "<p>100 rows × 4 columns</p>\n",
              "</div>\n",
              "      <button class=\"colab-df-convert\" onclick=\"convertToInteractive('df-d4742096-1996-4d3d-9292-383f0e01c058')\"\n",
              "              title=\"Convert this dataframe to an interactive table.\"\n",
              "              style=\"display:none;\">\n",
              "        \n",
              "  <svg xmlns=\"http://www.w3.org/2000/svg\" height=\"24px\"viewBox=\"0 0 24 24\"\n",
              "       width=\"24px\">\n",
              "    <path d=\"M0 0h24v24H0V0z\" fill=\"none\"/>\n",
              "    <path d=\"M18.56 5.44l.94 2.06.94-2.06 2.06-.94-2.06-.94-.94-2.06-.94 2.06-2.06.94zm-11 1L8.5 8.5l.94-2.06 2.06-.94-2.06-.94L8.5 2.5l-.94 2.06-2.06.94zm10 10l.94 2.06.94-2.06 2.06-.94-2.06-.94-.94-2.06-.94 2.06-2.06.94z\"/><path d=\"M17.41 7.96l-1.37-1.37c-.4-.4-.92-.59-1.43-.59-.52 0-1.04.2-1.43.59L10.3 9.45l-7.72 7.72c-.78.78-.78 2.05 0 2.83L4 21.41c.39.39.9.59 1.41.59.51 0 1.02-.2 1.41-.59l7.78-7.78 2.81-2.81c.8-.78.8-2.07 0-2.86zM5.41 20L4 18.59l7.72-7.72 1.47 1.35L5.41 20z\"/>\n",
              "  </svg>\n",
              "      </button>\n",
              "      \n",
              "  <style>\n",
              "    .colab-df-container {\n",
              "      display:flex;\n",
              "      flex-wrap:wrap;\n",
              "      gap: 12px;\n",
              "    }\n",
              "\n",
              "    .colab-df-convert {\n",
              "      background-color: #E8F0FE;\n",
              "      border: none;\n",
              "      border-radius: 50%;\n",
              "      cursor: pointer;\n",
              "      display: none;\n",
              "      fill: #1967D2;\n",
              "      height: 32px;\n",
              "      padding: 0 0 0 0;\n",
              "      width: 32px;\n",
              "    }\n",
              "\n",
              "    .colab-df-convert:hover {\n",
              "      background-color: #E2EBFA;\n",
              "      box-shadow: 0px 1px 2px rgba(60, 64, 67, 0.3), 0px 1px 3px 1px rgba(60, 64, 67, 0.15);\n",
              "      fill: #174EA6;\n",
              "    }\n",
              "\n",
              "    [theme=dark] .colab-df-convert {\n",
              "      background-color: #3B4455;\n",
              "      fill: #D2E3FC;\n",
              "    }\n",
              "\n",
              "    [theme=dark] .colab-df-convert:hover {\n",
              "      background-color: #434B5C;\n",
              "      box-shadow: 0px 1px 3px 1px rgba(0, 0, 0, 0.15);\n",
              "      filter: drop-shadow(0px 1px 2px rgba(0, 0, 0, 0.3));\n",
              "      fill: #FFFFFF;\n",
              "    }\n",
              "  </style>\n",
              "\n",
              "      <script>\n",
              "        const buttonEl =\n",
              "          document.querySelector('#df-d4742096-1996-4d3d-9292-383f0e01c058 button.colab-df-convert');\n",
              "        buttonEl.style.display =\n",
              "          google.colab.kernel.accessAllowed ? 'block' : 'none';\n",
              "\n",
              "        async function convertToInteractive(key) {\n",
              "          const element = document.querySelector('#df-d4742096-1996-4d3d-9292-383f0e01c058');\n",
              "          const dataTable =\n",
              "            await google.colab.kernel.invokeFunction('convertToInteractive',\n",
              "                                                     [key], {});\n",
              "          if (!dataTable) return;\n",
              "\n",
              "          const docLinkHtml = 'Like what you see? Visit the ' +\n",
              "            '<a target=\"_blank\" href=https://colab.research.google.com/notebooks/data_table.ipynb>data table notebook</a>'\n",
              "            + ' to learn more about interactive tables.';\n",
              "          element.innerHTML = '';\n",
              "          dataTable['output_type'] = 'display_data';\n",
              "          await google.colab.output.renderOutput(dataTable, element);\n",
              "          const docLink = document.createElement('div');\n",
              "          docLink.innerHTML = docLinkHtml;\n",
              "          element.appendChild(docLink);\n",
              "        }\n",
              "      </script>\n",
              "    </div>\n",
              "  </div>\n",
              "  "
            ]
          },
          "metadata": {},
          "execution_count": 23
        }
      ]
    },
    {
      "cell_type": "code",
      "source": [
        "j=1\n",
        "sorted=df.sort_values(by=['Polarity'])\n",
        "for i in range(0,sorted.shape[0]):\n",
        "  if(sorted['Results'][i]=='Positive'):\n",
        "    print(str(j)+')'+sorted['Tweets'][i])\n",
        "    print()\n",
        "    j=j+1"
      ],
      "metadata": {
        "colab": {
          "base_uri": "https://localhost:8080/"
        },
        "id": "wZOLchPWQxgr",
        "outputId": "9b0ed534-a5fb-4825-8fa5-702a5525f8bc"
      },
      "execution_count": 24,
      "outputs": [
        {
          "output_type": "stream",
          "name": "stdout",
          "text": [
            "1)RT  : Jill and I are praying for those injured in the New York City subway shooting. We are grateful for the first responders and civi…\n",
            "\n",
            "2)America is back to work. Our economy added 7.9 million jobs since I took office—more jobs created on average per month than under any other president in history. That’s millions of families with a little more breathing room and the dignity a job provides.\n",
            "\n",
            "3)Today is a good day—a day that history is going to remember.  \n",
            "\n",
            "4)RT  : Judge Jackson brings a rare combination of experience and qualifications to the Court. A federal judge who served on the secon…\n",
            "\n",
            "5)RT  : Today is a good day for America. A day that history will remember. Tune in as the Vice President, Judge Ketanji Brown Jackson, a…\n",
            "\n",
            "6)Over the last four weeks, fewer Americans filed initial claims for unemployment insurance than any time in our nation’s recorded history. While we have more work to do to lower costs for families, today’s data demonstrates that America is on the move again.\n",
            "\n",
            "7)Today, we enshrine in law our recognition that the Postal Service is fundamental to our economy, to our democracy, to our health, and the very sense of who we are as a nation.\n",
            "\n",
            "8)If Republicans have their way, up to 100 million Americans with preexisting conditions could once again be denied health care coverage by their insurance companies.I’ve got a better idea. Instead of destroying the Affordable Care Act, let's keep building on it.  \n",
            "\n",
            "9)Mr. President, welcome back to the White House. \n",
            "\n",
            "10)RT  : It’s an honor to welcome my friend President   back to the White House. I look forward to discussing the big step we’…\n",
            "\n",
            "11)Thanks to the Bipartisan Infrastructure Law, we’re making the largest investment in American roads and bridges since the creation of the interstate highway system.\n",
            "\n",
            "12)2021 was the best year for trucking employment since 1994—there are now 35,000 more trucking jobs than there were before the pandemic.\n",
            "\n",
            "13)RT  : Judge Jackson will bring extraordinary qualifications, deep experience and intellect, and a rigorous judicial record to the Supr…\n",
            "\n",
            "14)Last year, we reduced the deficit by more than $350 billion. And now under my budget, we’re on track for the largest one-year reduction in the deficit in U.S. history.America is on the move.  \n",
            "\n",
            "15)A firefighter and a teacher shouldn’t pay a higher tax rate than a billionaire pays. That’s not right.My budget contains a Billionaire Minimum Income Tax to make sure billionaires pay their fair share.  \n",
            "\n",
            "16)Last week, I met with NATO allies to reiterate our strong support for the Ukrainian people.Putin was banking on NATO being divided, but it has never been more united than it is today.\n",
            "\n",
            "17)Over the course of my presidency, our recovery has now created 7.9 million jobs—the most jobs created over the first 14 months of any presidency, in any term, ever.\n",
            "\n",
            "18)This week, I signed the Emmett Till Antilynching Act into law, making lynching a federal hate crime for the first time in American history.As we work toward becoming a more perfect union, we must also come to terms with the sins of our past.  \n",
            "\n",
            "19)RT  : To transgender Americans of all ages, I want you to know that you are so brave. You belong. I have your back.  \n",
            "\n",
            "20)My Billionaire Minimum Income Tax is fair, and it would raise $360 billion that can be used to lower costs for families and cut the deficit. \n",
            "\n",
            "21)RT  : Today we celebrate the life and legacy of César Estrada Chávez, a champion for social justice and advocate for farm workers and…\n",
            "\n",
            "22)Under my budget, nobody making less than $400,000 a year would pay a penny more in federal taxes\n",
            "\n",
            "23)My budget includes historic deficit reduction, historic investments in our security at home and abroad, and an unprecedented commitment to building an economy where everyone has a chance to succeed.\n",
            "\n",
            "24)My budget would further reduce the deficit by continuing to support the economic growth that has increased revenues and ensuring that billionaires and large corporations pay their fair share.\n",
            "\n",
            "25)A dictator bent on rebuilding an empire will never erase a people's love for liberty. Brutality will never grind down the will to be free. Ukraine will never be a victory for Russia.\n",
            "\n",
            "26)RT  : Every student deserves to feel safe and welcome in the classroom. Our LGBTQI+ youth deserve to be affirmed and accepted just as…\n",
            "\n",
            "27)The darkness that drives autocracy is ultimately no match for the flame of liberty that lights the souls of free people everywhere. \n",
            "\n",
            "28)RT  : To the Russian people: You are not our enemy. The American people stand with you and the brave citizens in Ukraine who want pe…\n",
            "\n",
            "29)RT  : Watch live as I deliver remarks on the united efforts of the free world to support the people of Ukraine, hold Russia accountabl…\n",
            "\n",
            "30)The United States is prepared to commit more than $1 billion in humanitarian assistance to help get relief to millions of Ukrainians affected by the war in Ukraine.  \n",
            "\n",
            "31)NATO has never been more united than it is today. Putin is getting exactly the opposite of what he intended to have as a consequence of going into Ukraine.\n",
            "\n",
            "32)This morning, we received news that the number of Americans on unemployment insurance fell to its lowest level since 1970.This historic progress is no accident: it’s the result of an economic strategy to grow the economy from the bottom up and middle out.\n",
            "\n",
            "33)The Affordable Care Act was groundbreaking and life-changing legislation that has provided access to health care to millions of Americans, including the more than 130 million Americans with preexisting conditions.\n",
            "\n",
            "34)The Affordable Care Act that was signed into law 12 years ago was the first step in ensuring that everyone has access to affordable health care. I am proud that since November 2021, 14.5 million Americans have signed up for quality, affordable coverage.\n",
            "\n",
            "35)Twelve years ago today, I watched President Obama sign the Affordable Care Act into law. I was proud to serve as vice president every day, but never more so than on that historic day.  \n",
            "\n",
            "36)RT  : Judge Ketanji Brown Jackson is a brilliant legal mind with the utmost character and integrity.  She deserves to be confirmed a…\n",
            "\n",
            "37)RT  : Jill and I want to extend our best wishes to all who are celebrating Nowruz around the world. The Nowruz holiday means gathering…\n",
            "\n",
            "38)28 years ago, we passed the Violence Against Women Act to provide protection against domestic violence, stalking, sexual assault—and to support survivors. This week, I signed legislation to reauthorize and strengthen the Violence Against Women Act.\n",
            "\n",
            "39)Today we celebrate the deep affection we have for Ireland and the people of Ireland. That includes millions of Americans like my great-great-grandfather, great-grandfather, and grandfather, all of whom were Irish Americans on both sides of the family. Happy St. Patrick’s Day!\n",
            "\n",
            "40)There are over 200,000 kids in America and many more adults with Type 1 diabetes needing insulin every day.It costs $10 to make a vial of insulin, yet the average cost can be up to $1,000 a month.Let’s cap the cost of insulin at $35 a month.\n",
            "\n",
            "41)RT  : My Administration is committed to closing the gender pay gap ensuring that all Americans have a fair and equal opportunity to ge…\n",
            "\n",
            "42)As my mother would say, “God love them.” \n",
            "\n",
            "43)RT  : We are continuing the close cooperation with Allies and partners to make sure that the Ukrainian people can defend their nation.…\n",
            "\n",
            "44)Before I took office, people were hurting and we had to act. We passed the American Rescue Plan without a single, solitary Republican vote. Few pieces of legislation in our history have done more to lift the country out of crisis.\n",
            "\n",
            "45)Few pieces of legislation have done more to lift us out of this crisis than the American Rescue Plan.It fueled our efforts to vaccinate the nation.Delivered immediate economic relief for millions of Americans.Helped cut health insurance costs.It was just the beginning.\n",
            "\n",
            "46)Thanks to the American Rescue Plan, we lifted this country out of crisis and added more jobs to the economy in a single year than any other administration.\n",
            "\n",
            "47)Unlike the $2 trillion tax cut passed in the previous administration that benefitted the top 1% of Americans, the American Rescue Plan helped working people and left no one behind.It's why our economy has recovered faster than other major global economies.\n",
            "\n",
            "48)When Vice President   and I took office, there was no national plan to get Americans vaccinated and jump-start our economy.The American Rescue Plan helped us get 500 million shots in arms and set off the greatest single year of job growth in our history.\n",
            "\n",
            "49)We are stronger today than we were a year ago, thanks to the American Rescue Plan.  \n",
            "\n",
            "50)We are pushing for investments so we can manufacture more in America, strengthen our supply chains, and move goods to market at lower costs.And I’m pressing Congress to pass my plan to lower the cost of essentials like prescription drugs and energy.\n",
            "\n",
            "51)With all the bright spots in our economy—record job growth and higher wages—too many families are struggling to keep up with the bills. Inflation is robbing them of the gains they might otherwise feel.  I get it. That’s why my top priority is getting prices under control.\n",
            "\n",
            "52)A large contributor to inflation this month was an increase in gas and energy prices as markets reacted to Putin’s aggressive actions. I know that higher prices impact a family’s budget, which is why I am fighting to bring down the everyday prices that are squeezing Americans.\n",
            "\n",
            "53)Veterans are the backbone, the spine, and sinew of who we are in this country.One percent of you serves. The rest of us deserve to treat you with the dignity and respect in service that you deserve. You're the best of us, and we owe you.\n",
            "\n",
            "54)We're going to continue to support the brave Ukrainian people as they fight for their country.I call on Congress to pass the $12 billion Ukraine assistance package.\n",
            "\n",
            "55)We're banning all imports of Russian oil and gas and energy.That means Russian oil will no longer be acceptable at U.S. ports and the American people will deal another powerful blow to Putin.\n",
            "\n",
            "56)On International Women’s Day and every day, let us recognize that all of us have a better future when women and girls can reach their full potential—and together, let’s renew our efforts to advance dignity, equality, and limitless possibilities for all.\n",
            "\n",
            "57)The American Rescue Plan has resulted in historic economic growth.  \n",
            "\n",
            "58)Last year has been the best year for manufacturing jobs and trucking jobs since 1994.\n",
            "\n"
          ]
        }
      ]
    },
    {
      "cell_type": "code",
      "source": [
        "j=1\n",
        "sorted=df.sort_values(by=['Polarity'])\n",
        "for i in range(0,sorted.shape[0]):\n",
        "  if(sorted['Results'][i]=='Negative'):\n",
        "    print(str(j)+')'+sorted['Tweets'][i])\n",
        "    print()\n",
        "    j=j+1"
      ],
      "metadata": {
        "colab": {
          "base_uri": "https://localhost:8080/"
        },
        "id": "PFBX5tvKQ2Ho",
        "outputId": "e91488fe-c530-431a-a24d-785b651424ec"
      },
      "execution_count": 25,
      "outputs": [
        {
          "output_type": "stream",
          "name": "stdout",
          "text": [
            "1)To help deal with Putin’s Price Hike, I’ve authorized the use of 1 million barrels per day on average for the next six months from our Strategic Petroleum Reserve—the largest release of our national reserve in history.\n",
            "\n",
            "2)Over 31 million people now have health insurance through the Affordable Care Act.4 out of 5 Americans can find quality coverage for under $10 a month.The average family is saving $2,400 a year on their premiums.The Affordable Care Act is stronger now than it has ever been.\n",
            "\n",
            "3)After a long stretch, Americans are back to work, and the economy has gone from being on the mend to being on the move.\n",
            "\n",
            "4)In March, the unemployment rate fell to 3.6%, down from 6.4% when I took office about 15 months ago – the fastest decline in unemployment to start a president's term ever recorded.\n",
            "\n",
            "5)RT  : I just signed the Emmett Till Antilynching Act into law — making lynching a federal hate crime for the first time in American hi…\n",
            "\n",
            "6)My budget makes the investments needed to reduce costs for families and make progress on my Unity Agenda—including investments to cut the costs of child care and health care; help families pay for other essentials; end cancer as we know it; and support our veterans.\n",
            "\n",
            "7)We are on track to reduce the federal deficit by more than $1.3 trillion this year, cutting in half the deficit from the last year of the previous administration and delivering the largest one-year reduction in the deficit in U.S. history.\n",
            "\n",
            "8)Rather than breaking Ukrainian resolve, Russia's brutal tactics have strengthened their resolve. Rather than driving NATO apart, the West is now stronger and more united than it's ever been.\n",
            "\n",
            "9)Russia's economy was ranked the 11th biggest economy in the world before this invasion. It will soon not even rank among the top 20 in the world.\n",
            "\n",
            "10)RT  : Putin has the gall to say he is “de-Nazifying” Ukraine.This lie isn’t just cynical. It is obscene. President Zelenskyy was d…\n",
            "\n",
            "11)My message to the 82nd Airborne Division on the ground in Poland: Every single one of you stepped up. Thank you.  \n",
            "\n",
            "12)Americans are getting back to work at a historic pace, with fewer Americans on unemployment insurance today than at any time in the last half century.\n",
            "\n",
            "13)On the anniversary of the Affordable Care Act being signed into law, know that as long as any American lies awake at night wondering how they’re going to pay their medical bills, we will keep fighting to lower costs and further expand health coverage.\n",
            "\n",
            "14)The world is united in our support for Ukraine and our determination to make Putin pay a very heavy price. America is leading this effort together with allies and partners—providing enormous levels of security and humanitarian assistance. \n",
            "\n",
            "15)One year ago today, I signed the American Rescue Plan into law. It helped deliver: —500 million shots in arms—The fastest single year of job growth in our history—A record decline in unemployment two years ahead of predictionsAmerica is getting back on track.\n",
            "\n",
            "16)RT  : Today’s inflation report is a reminder that Americans’ budgets are being stretched by price increases and families are starting…\n",
            "\n"
          ]
        }
      ]
    },
    {
      "cell_type": "code",
      "source": [
        "posit=df[df.Results=='Positive']\n",
        "posit=posit['Tweets']\n",
        "round((posit.shape[0]/df.shape[0])*100,1)"
      ],
      "metadata": {
        "colab": {
          "base_uri": "https://localhost:8080/"
        },
        "id": "fcsS-ntcRA7P",
        "outputId": "eb032991-1b1b-448a-cb1b-085f7c65334f"
      },
      "execution_count": 27,
      "outputs": [
        {
          "output_type": "execute_result",
          "data": {
            "text/plain": [
              "58.0"
            ]
          },
          "metadata": {},
          "execution_count": 27
        }
      ]
    },
    {
      "cell_type": "code",
      "source": [
        "negit=df[df.Results=='Negative']\n",
        "negit=negit['Tweets']\n",
        "round((negit.shape[0]/df.shape[0])*100,1)"
      ],
      "metadata": {
        "colab": {
          "base_uri": "https://localhost:8080/"
        },
        "id": "veNUOCK5RFEK",
        "outputId": "a5d2ac67-eb6c-4d7d-87ca-87a592b73eb9"
      },
      "execution_count": 28,
      "outputs": [
        {
          "output_type": "execute_result",
          "data": {
            "text/plain": [
              "16.0"
            ]
          },
          "metadata": {},
          "execution_count": 28
        }
      ]
    },
    {
      "cell_type": "code",
      "source": [
        "df['Results'].value_counts()\n",
        "plt.title('Sentiment Analysis')\n",
        "plt.xlabel('Sentiment')\n",
        "plt.ylabel('Count')\n",
        "df['Results'].value_counts().plot(kind='bar')\n",
        "plt.show()"
      ],
      "metadata": {
        "colab": {
          "base_uri": "https://localhost:8080/",
          "height": 330
        },
        "id": "5UuIrBgXRHBD",
        "outputId": "a63dc810-a678-44e4-ed8d-0ce312722c54"
      },
      "execution_count": 29,
      "outputs": [
        {
          "output_type": "display_data",
          "data": {
            "text/plain": [
              "<Figure size 432x288 with 1 Axes>"
            ],
            "image/png": "[encoded data removed]"
          },
          "metadata": {
            "needs_background": "light"
          }
        }
      ]
    },
    {
      "cell_type": "code",
      "source": [
        ""
      ],
      "metadata": {
        "id": "kSlD2qslRKCp"
      },
      "execution_count": null,
      "outputs": []
    }
  ]
}